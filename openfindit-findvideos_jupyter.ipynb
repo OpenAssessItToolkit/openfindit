{
 "cells": [
  {
   "cell_type": "markdown",
   "metadata": {},
   "source": [
    "# OpenDiffIt Find Videos\n",
    "\n",
    "Open file opendiffit/config/sites.txt to enter the site(s) you wish to crawl.\n",
    "\n",
    "From the menu choose ```Kernel > Restart Kernel and Clear All Outputs...```"
   ]
  },
  {
   "cell_type": "markdown",
   "metadata": {},
   "source": [
    "## Install prerequisites"
   ]
  },
  {
   "cell_type": "code",
   "execution_count": null,
   "metadata": {},
   "outputs": [],
   "source": [
    "import pandas as pd\n",
    "import sys\n",
    "import scrapy"
   ]
  },
  {
   "cell_type": "code",
   "execution_count": null,
   "metadata": {},
   "outputs": [],
   "source": [
    "!pip install -r ./requirements.txt"
   ]
  },
  {
   "cell_type": "markdown",
   "metadata": {},
   "source": [
    "## Force the scraper to provide feedback"
   ]
  },
  {
   "cell_type": "code",
   "execution_count": null,
   "metadata": {},
   "outputs": [],
   "source": [
    "from IPython.core.interactiveshell import InteractiveShell\n",
    "InteractiveShell.ast_node_interactivity = \"all\""
   ]
  },
  {
   "cell_type": "markdown",
   "metadata": {},
   "source": [
    "## Run OpenFindIt Scrapy script\n",
    "\n",
    "We have no way to show progress of the run.  It might take a minute, it might take hours depending on how many pages you crawl. Go get a coffee. You will know it is running if you see the time glass icon in this browser tab.\n",
    "\n",
    "Change the sites to crawl by putting the url(s) you want to crawl in the openfindit/config/sites.txt file."
   ]
  },
  {
   "cell_type": "markdown",
   "metadata": {},
   "source": [
    "__Run this cell to crawl videos, export csv, and view results__"
   ]
  },
  {
   "cell_type": "code",
   "execution_count": null,
   "metadata": {},
   "outputs": [],
   "source": [
    "%system scrapy crawl findvideos -a filename=openfindit/config/sites.txt -s DEPTH_LIMIT=5 -s CLOSESPIDER_PAGECOUNT=1000 -t csv -o - >  crawl-result-vid2.csv\n",
    "\n",
    "df = pd.read_csv('crawl-result-vid2.csv', dtype=str)\n",
    "df"
   ]
  }
 ],
 "metadata": {
  "kernelspec": {
   "display_name": "Python 3",
   "language": "python",
   "name": "python3"
  },
  "language_info": {
   "codemirror_mode": {
    "name": "ipython",
    "version": 3
   },
   "file_extension": ".py",
   "mimetype": "text/x-python",
   "name": "python",
   "nbconvert_exporter": "python",
   "pygments_lexer": "ipython3",
   "version": "3.7.6"
  }
 },
 "nbformat": 4,
 "nbformat_minor": 4
}
