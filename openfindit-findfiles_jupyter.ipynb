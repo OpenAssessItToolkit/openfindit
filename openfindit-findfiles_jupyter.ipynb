{
 "cells": [
  {
   "cell_type": "markdown",
   "metadata": {},
   "source": [
    "# OpenFindIt - Find Files\n",
    "\n",
    "Searches domain for files.\n",
    "\n",
    "Enter `url` to crawl at cell with `%system scrapy ...`\n",
    "\n",
    "Then choose ```Kernel > Restart Kernel and Run All Cells...``` from the menu."
   ]
  },
  {
   "cell_type": "markdown",
   "metadata": {},
   "source": [
    "## Install prerequisites"
   ]
  },
  {
   "cell_type": "markdown",
   "metadata": {},
   "source": [
    " ! Ensure scrapy is installed and on your local computer !"
   ]
  },
  {
   "cell_type": "code",
   "execution_count": 51,
   "metadata": {},
   "outputs": [],
   "source": [
    "pip install scrapy"
   ]
  },
  {
   "cell_type": "code",
   "execution_count": 2,
   "metadata": {},
   "outputs": [],
   "source": [
    "import pandas as pd\n",
    "import sys\n",
    "import scrapy"
   ]
  },
  {
   "cell_type": "code",
   "execution_count": 3,
   "metadata": {},
   "outputs": [
    {
     "name": "stdout",
     "output_type": "stream",
     "text": [
      "Requirement already satisfied: requests==2.20.0 in c:\\users\\joel\\anaconda3\\lib\\site-packages (from -r ./requirements.txt (line 1)) (2.20.0)\n",
      "Requirement already satisfied: scrapy==1.6.0 in c:\\users\\joel\\anaconda3\\lib\\site-packages (from -r ./requirements.txt (line 2)) (1.6.0)\n",
      "Requirement already satisfied: scrapy-random-useragent==0.2 in c:\\users\\joel\\anaconda3\\lib\\site-packages (from -r ./requirements.txt (line 3)) (0.2)\n",
      "Requirement already satisfied: youtube-dl in c:\\users\\joel\\anaconda3\\lib\\site-packages (from -r ./requirements.txt (line 4)) (2020.5.8)\n",
      "Requirement already satisfied: certifi>=2017.4.17 in c:\\users\\joel\\anaconda3\\lib\\site-packages (from requests==2.20.0->-r ./requirements.txt (line 1)) (2019.11.28)\n",
      "Requirement already satisfied: chardet<3.1.0,>=3.0.2 in c:\\users\\joel\\anaconda3\\lib\\site-packages (from requests==2.20.0->-r ./requirements.txt (line 1)) (3.0.4)\n",
      "Requirement already satisfied: urllib3<1.25,>=1.21.1 in c:\\users\\joel\\anaconda3\\lib\\site-packages (from requests==2.20.0->-r ./requirements.txt (line 1)) (1.24.3)\n",
      "Requirement already satisfied: idna<2.8,>=2.5 in c:\\users\\joel\\anaconda3\\lib\\site-packages (from requests==2.20.0->-r ./requirements.txt (line 1)) (2.7)\n",
      "Requirement already satisfied: pyOpenSSL in c:\\users\\joel\\anaconda3\\lib\\site-packages (from scrapy==1.6.0->-r ./requirements.txt (line 2)) (19.1.0)\n",
      "Requirement already satisfied: six>=1.5.2 in c:\\users\\joel\\anaconda3\\lib\\site-packages (from scrapy==1.6.0->-r ./requirements.txt (line 2)) (1.14.0)\n",
      "Requirement already satisfied: queuelib in c:\\users\\joel\\anaconda3\\lib\\site-packages (from scrapy==1.6.0->-r ./requirements.txt (line 2)) (1.5.0)\n",
      "Requirement already satisfied: w3lib>=1.17.0 in c:\\users\\joel\\anaconda3\\lib\\site-packages (from scrapy==1.6.0->-r ./requirements.txt (line 2)) (1.22.0)\n",
      "Requirement already satisfied: lxml in c:\\users\\joel\\anaconda3\\lib\\site-packages (from scrapy==1.6.0->-r ./requirements.txt (line 2)) (4.5.0)\n",
      "Requirement already satisfied: cssselect>=0.9 in c:\\users\\joel\\anaconda3\\lib\\site-packages (from scrapy==1.6.0->-r ./requirements.txt (line 2)) (1.1.0)\n",
      "Requirement already satisfied: Twisted>=13.1.0 in c:\\users\\joel\\anaconda3\\lib\\site-packages (from scrapy==1.6.0->-r ./requirements.txt (line 2)) (20.3.0)\n",
      "Requirement already satisfied: parsel>=1.5 in c:\\users\\joel\\anaconda3\\lib\\site-packages (from scrapy==1.6.0->-r ./requirements.txt (line 2)) (1.6.0)\n",
      "Requirement already satisfied: service-identity in c:\\users\\joel\\anaconda3\\lib\\site-packages (from scrapy==1.6.0->-r ./requirements.txt (line 2)) (18.1.0)\n",
      "Requirement already satisfied: PyDispatcher>=2.0.5 in c:\\users\\joel\\anaconda3\\lib\\site-packages (from scrapy==1.6.0->-r ./requirements.txt (line 2)) (2.0.5)\n",
      "Requirement already satisfied: cryptography>=2.8 in c:\\users\\joel\\anaconda3\\lib\\site-packages (from pyOpenSSL->scrapy==1.6.0->-r ./requirements.txt (line 2)) (2.8)\n",
      "Requirement already satisfied: Automat>=0.3.0 in c:\\users\\joel\\anaconda3\\lib\\site-packages (from Twisted>=13.1.0->scrapy==1.6.0->-r ./requirements.txt (line 2)) (20.2.0)\n",
      "Requirement already satisfied: PyHamcrest!=1.10.0,>=1.9.0 in c:\\users\\joel\\anaconda3\\lib\\site-packages (from Twisted>=13.1.0->scrapy==1.6.0->-r ./requirements.txt (line 2)) (2.0.2)\n",
      "Requirement already satisfied: constantly>=15.1 in c:\\users\\joel\\anaconda3\\lib\\site-packages (from Twisted>=13.1.0->scrapy==1.6.0->-r ./requirements.txt (line 2)) (15.1.0)\n",
      "Requirement already satisfied: hyperlink>=17.1.1 in c:\\users\\joel\\anaconda3\\lib\\site-packages (from Twisted>=13.1.0->scrapy==1.6.0->-r ./requirements.txt (line 2)) (19.0.0)\n",
      "Requirement already satisfied: attrs>=19.2.0 in c:\\users\\joel\\anaconda3\\lib\\site-packages (from Twisted>=13.1.0->scrapy==1.6.0->-r ./requirements.txt (line 2)) (19.3.0)\n",
      "Requirement already satisfied: zope.interface>=4.4.2 in c:\\users\\joel\\anaconda3\\lib\\site-packages (from Twisted>=13.1.0->scrapy==1.6.0->-r ./requirements.txt (line 2)) (5.1.0)\n",
      "Requirement already satisfied: incremental>=16.10.1 in c:\\users\\joel\\anaconda3\\lib\\site-packages (from Twisted>=13.1.0->scrapy==1.6.0->-r ./requirements.txt (line 2)) (17.5.0)\n",
      "Requirement already satisfied: pyasn1 in c:\\users\\joel\\anaconda3\\lib\\site-packages (from service-identity->scrapy==1.6.0->-r ./requirements.txt (line 2)) (0.4.8)\n",
      "Requirement already satisfied: pyasn1-modules in c:\\users\\joel\\anaconda3\\lib\\site-packages (from service-identity->scrapy==1.6.0->-r ./requirements.txt (line 2)) (0.2.8)\n",
      "Requirement already satisfied: cffi!=1.11.3,>=1.8 in c:\\users\\joel\\anaconda3\\lib\\site-packages (from cryptography>=2.8->pyOpenSSL->scrapy==1.6.0->-r ./requirements.txt (line 2)) (1.14.0)\n",
      "Requirement already satisfied: setuptools in c:\\users\\joel\\anaconda3\\lib\\site-packages (from zope.interface>=4.4.2->Twisted>=13.1.0->scrapy==1.6.0->-r ./requirements.txt (line 2)) (45.2.0.post20200210)\n",
      "Requirement already satisfied: pycparser in c:\\users\\joel\\anaconda3\\lib\\site-packages (from cffi!=1.11.3,>=1.8->cryptography>=2.8->pyOpenSSL->scrapy==1.6.0->-r ./requirements.txt (line 2)) (2.19)\n"
     ]
    }
   ],
   "source": [
    "!pip install -r ./requirements.txt"
   ]
  },
  {
   "cell_type": "markdown",
   "metadata": {},
   "source": [
    "## Force the scraper to provide feedback"
   ]
  },
  {
   "cell_type": "code",
   "execution_count": 4,
   "metadata": {},
   "outputs": [],
   "source": [
    "from IPython.core.interactiveshell import InteractiveShell\n",
    "InteractiveShell.ast_node_interactivity = \"all\""
   ]
  },
  {
   "cell_type": "markdown",
   "metadata": {},
   "source": [
    "## Create tmp folder to hold results"
   ]
  },
  {
   "cell_type": "code",
   "execution_count": 46,
   "metadata": {},
   "outputs": [
    {
     "name": "stderr",
     "output_type": "stream",
     "text": [
      "A subdirectory or file results already exists.\n"
     ]
    }
   ],
   "source": [
    "mkdir results"
   ]
  },
  {
   "cell_type": "markdown",
   "metadata": {},
   "source": [
    "## Run OpenFindIt Scrapy script for files\n",
    "\n",
    "We have no way to show progress of the run.  It might take a minute, it might take hours depending on how many pages you crawl. Go get a coffee. You will know it is running if you see the time glass icon in this browser tab.\n",
    "\n",
    "Change the sites to crawl by putting the url(s) you want to crawl in the openfindit/config/sites.txt file."
   ]
  },
  {
   "cell_type": "code",
   "execution_count": 49,
   "metadata": {},
   "outputs": [
    {
     "data": {
      "text/plain": [
       "['2020-07-02 16:08:57 [scrapy.utils.log] INFO: Scrapy 1.6.0 started (bot: Duke Accessibility Scraper for PDF and Video links)',\n",
       " '2020-07-02 16:08:57 [scrapy.utils.log] INFO: Versions: lxml 4.5.0.0, libxml2 2.9.9, cssselect 1.1.0, parsel 1.6.0, w3lib 1.22.0, Twisted 20.3.0, Python 3.7.6 (default, Jan  8 2020, 20:23:39) [MSC v.1916 64 bit (AMD64)], pyOpenSSL 19.1.0 (OpenSSL 1.1.1d  10 Sep 2019), cryptography 2.8, Platform Windows-10-10.0.19041-SP0',\n",
       " \"2020-07-02 16:08:57 [scrapy.crawler] INFO: Overridden settings: {'AUTOTHROTTLE_ENABLED': True, 'AUTOTHROTTLE_TARGET_CONCURRENCY': 0.5, 'BOT_NAME': 'Duke Accessibility Scraper for PDF and Video links', 'CLOSESPIDER_PAGECOUNT': '500', 'CONCURRENT_REQUESTS_PER_IP': 1, 'DEPTH_LIMIT': '3', 'DEPTH_PRIORITY': 1, 'FEED_FORMAT': 'csv', 'FEED_URI': 'stdout:', 'HTTPCACHE_ENABLED': True, 'HTTPCACHE_EXPIRATION_SECS': 43200, 'NEWSPIDER_MODULE': 'openfindit.spiders', 'REDIRECT_MAX_TIMES': 5, 'SCHEDULER_DISK_QUEUE': 'scrapy.squeues.PickleFifoDiskQueue', 'SCHEDULER_MEMORY_QUEUE': 'scrapy.squeues.FifoMemoryQueue', 'SPIDER_MODULES': ['openfindit.spiders']}\",\n",
       " '2020-07-02 16:08:57 [scrapy.extensions.telnet] INFO: Telnet Password: 2e972359b08c0b94',\n",
       " '2020-07-02 16:08:57 [scrapy.middleware] INFO: Enabled extensions:',\n",
       " \"['scrapy.extensions.corestats.CoreStats',\",\n",
       " \" 'scrapy.extensions.telnet.TelnetConsole',\",\n",
       " \" 'scrapy.extensions.closespider.CloseSpider',\",\n",
       " \" 'scrapy.extensions.feedexport.FeedExporter',\",\n",
       " \" 'scrapy.extensions.logstats.LogStats',\",\n",
       " \" 'scrapy.extensions.throttle.AutoThrottle']\",\n",
       " \"2020-07-02 16:08:57 [findfiles] INFO: ['http://joelcrawfordsmith.com/openassessit/demo/test-index.html']\",\n",
       " '2020-07-02 16:08:57 [scrapy.middleware] INFO: Enabled downloader middlewares:',\n",
       " \"['scrapy.downloadermiddlewares.httpauth.HttpAuthMiddleware',\",\n",
       " \" 'scrapy.downloadermiddlewares.downloadtimeout.DownloadTimeoutMiddleware',\",\n",
       " \" 'scrapy.downloadermiddlewares.defaultheaders.DefaultHeadersMiddleware',\",\n",
       " \" 'random_useragent.RandomUserAgentMiddleware',\",\n",
       " \" 'scrapy.downloadermiddlewares.useragent.UserAgentMiddleware',\",\n",
       " \" 'scrapy.downloadermiddlewares.retry.RetryMiddleware',\",\n",
       " \" 'scrapy.downloadermiddlewares.redirect.MetaRefreshMiddleware',\",\n",
       " \" 'scrapy.downloadermiddlewares.httpcompression.HttpCompressionMiddleware',\",\n",
       " \" 'scrapy.downloadermiddlewares.redirect.RedirectMiddleware',\",\n",
       " \" 'scrapy.downloadermiddlewares.cookies.CookiesMiddleware',\",\n",
       " \" 'scrapy.downloadermiddlewares.httpproxy.HttpProxyMiddleware',\",\n",
       " \" 'scrapy.downloadermiddlewares.stats.DownloaderStats',\",\n",
       " \" 'scrapy.downloadermiddlewares.httpcache.HttpCacheMiddleware']\",\n",
       " '2020-07-02 16:08:57 [scrapy.middleware] INFO: Enabled spider middlewares:',\n",
       " \"['scrapy.spidermiddlewares.httperror.HttpErrorMiddleware',\",\n",
       " \" 'scrapy.spidermiddlewares.offsite.OffsiteMiddleware',\",\n",
       " \" 'scrapy.spidermiddlewares.referer.RefererMiddleware',\",\n",
       " \" 'scrapy.spidermiddlewares.urllength.UrlLengthMiddleware',\",\n",
       " \" 'scrapy.spidermiddlewares.depth.DepthMiddleware']\",\n",
       " '2020-07-02 16:08:57 [scrapy.middleware] INFO: Enabled item pipelines:',\n",
       " '[]',\n",
       " '2020-07-02 16:08:57 [scrapy.core.engine] INFO: Spider opened',\n",
       " '2020-07-02 16:08:57 [scrapy.extensions.logstats] INFO: Crawled 0 pages (at 0 pages/min), scraped 0 items (at 0 items/min)',\n",
       " '2020-07-02 16:08:57 [scrapy.extensions.httpcache] DEBUG: Using filesystem cache storage in C:\\\\Users\\\\Joel\\\\Documents\\\\jupyter_projects\\\\jup_clean\\\\openfindit\\\\.scrapy\\\\httpcache',\n",
       " '2020-07-02 16:08:57 [scrapy.extensions.telnet] INFO: Telnet console listening on 127.0.0.1:6023',\n",
       " \"2020-07-02 16:08:57 [scrapy.core.engine] DEBUG: Crawled (200) <GET http://joelcrawfordsmith.com/openassessit/demo/test-index.html> (referer: None) ['cached']\",\n",
       " \"2020-07-02 16:08:57 [scrapy.core.engine] DEBUG: Crawled (200) <GET http://joelcrawfordsmith.com/openassessit/demo/test-video-embeds.html> (referer: http://joelcrawfordsmith.com/openassessit/demo/test-index.html) ['cached']\",\n",
       " \"2020-07-02 16:08:57 [scrapy.core.engine] DEBUG: Crawled (200) <GET http://joelcrawfordsmith.com/openassessit/demo/test-pdf-links.html> (referer: http://joelcrawfordsmith.com/openassessit/demo/test-index.html) ['cached']\",\n",
       " \"2020-07-02 16:08:57 [scrapy.spidermiddlewares.offsite] DEBUG: Filtered offsite request to 'www.youtube.com': <GET https://www.youtube.com/watch?v=COajNPfSCMI>\",\n",
       " \"2020-07-02 16:08:58 [scrapy.spidermiddlewares.offsite] DEBUG: Filtered offsite request to 'google.com': <GET https://google.com>\",\n",
       " \"2020-07-02 16:08:58 [scrapy.spidermiddlewares.offsite] DEBUG: Filtered offsite request to 'microsoft.com': <GET https://microsoft.com>\",\n",
       " \"2020-07-02 16:08:58 [scrapy.spidermiddlewares.offsite] DEBUG: Filtered offsite request to 'yahoo.com': <GET https://yahoo.com>\",\n",
       " '2020-07-02 16:08:58 [scrapy.core.scraper] DEBUG: Scraped from <200 http://joelcrawfordsmith.com/openassessit/demo/test-pdf-links.html>',\n",
       " '',\n",
       " \"{'url': 'http://joelcrawfordsmith.com/openassessit/demo/assets/alices-adventures-in-wonderland.pdf', 'link_text': 'Alice in Wonderland', 'from_page_url': 'http://joelcrawfordsmith.com/openassessit/demo/test-pdf-links.html'}\",\n",
       " '2020-07-02 16:08:58 [scrapy.core.scraper] DEBUG: Scraped from <200 http://joelcrawfordsmith.com/openassessit/demo/test-pdf-links.html>',\n",
       " '',\n",
       " \"{'url': 'http://joelcrawfordsmith.com/openassessit/demo/assets/through-the-looking-glass.pdf', 'link_text': 'Through the Looking Glass', 'from_page_url': 'http://joelcrawfordsmith.com/openassessit/demo/test-pdf-links.html'}\",\n",
       " '2020-07-02 16:08:58 [scrapy.core.scraper] DEBUG: Scraped from <200 http://joelcrawfordsmith.com/openassessit/demo/test-pdf-links.html>',\n",
       " '',\n",
       " '{\\'url\\': \\'http://joelcrawfordsmith.com/openassessit/demo/assets/between-childhood-and-adolescence.pdf\\', \\'link_text\\': \"Alice\\'s Vacilation between Childhood and Adolescence\", \\'from_page_url\\': \\'http://joelcrawfordsmith.com/openassessit/demo/test-pdf-links.html\\'}',\n",
       " '2020-07-02 16:08:58 [scrapy.core.scraper] DEBUG: Scraped from <200 http://joelcrawfordsmith.com/openassessit/demo/test-pdf-links.html>',\n",
       " '',\n",
       " \"{'url': 'http://joelcrawfordsmith.com/openassessit/demo/assets/music-for-alice-in-wonderland.pdf', 'link_text': 'Music for Alice in Wonderland play', 'from_page_url': 'http://joelcrawfordsmith.com/openassessit/demo/test-pdf-links.html'}\",\n",
       " '2020-07-02 16:08:58 [scrapy.core.scraper] DEBUG: Scraped from <200 http://joelcrawfordsmith.com/openassessit/demo/test-pdf-links.html>',\n",
       " '',\n",
       " \"{'url': 'http://joelcrawfordsmith.com/openassessit/demo/assets/hunting-shark.pdf', 'link_text': 'The Hunting Shark', 'from_page_url': 'http://joelcrawfordsmith.com/openassessit/demo/test-pdf-links.html'}\",\n",
       " '2020-07-02 16:08:58 [scrapy.core.scraper] DEBUG: Scraped from <200 http://joelcrawfordsmith.com/openassessit/demo/test-pdf-links.html>',\n",
       " '',\n",
       " \"{'url': 'http://joelcrawfordsmith.com/openassessit/demo/assets/phantasmagoria.pdf', 'link_text': 'Phantasmagoria', 'from_page_url': 'http://joelcrawfordsmith.com/openassessit/demo/test-pdf-links.html'}\",\n",
       " \"2020-07-02 16:08:58 [scrapy.core.engine] DEBUG: Crawled (200) <GET http://joelcrawfordsmith.com/openassessit/demo/test-video-embeds-2.html> (referer: http://joelcrawfordsmith.com/openassessit/demo/test-video-embeds.html) ['cached']\",\n",
       " \"2020-07-02 16:08:58 [scrapy.core.engine] DEBUG: Crawled (200) <GET http://joelcrawfordsmith.com/openassessit/demo/test-video-embeds-3.html> (referer: http://joelcrawfordsmith.com/openassessit/demo/test-video-embeds-2.html) ['cached']\",\n",
       " '2020-07-02 16:08:58 [scrapy.spidermiddlewares.depth] DEBUG: Ignoring link (depth > 3): https://warpwire.duke.edu/w/51IDAA/ ',\n",
       " '2020-07-02 16:08:58 [scrapy.spidermiddlewares.depth] DEBUG: Ignoring link (depth > 3): https://youtu.be/qyZlaQtyp8c ',\n",
       " '2020-07-02 16:08:58 [scrapy.spidermiddlewares.depth] DEBUG: Ignoring link (depth > 3): https://www.youtube.com/embed/oM--EXqMkZ8 ',\n",
       " '2020-07-02 16:08:58 [scrapy.core.engine] INFO: Closing spider (finished)',\n",
       " '2020-07-02 16:08:58 [scrapy.extensions.feedexport] INFO: Stored csv feed (6 items) in: stdout:',\n",
       " '2020-07-02 16:08:58 [scrapy.statscollectors] INFO: Dumping Scrapy stats:',\n",
       " \"{'downloader/request_bytes': 1602,\",\n",
       " \" 'downloader/request_count': 5,\",\n",
       " \" 'downloader/request_method_count/GET': 5,\",\n",
       " \" 'downloader/response_bytes': 7300,\",\n",
       " \" 'downloader/response_count': 5,\",\n",
       " \" 'downloader/response_status_count/200': 5,\",\n",
       " \" 'finish_reason': 'finished',\",\n",
       " \" 'finish_time': datetime.datetime(2020, 7, 2, 20, 8, 58, 236631),\",\n",
       " \" 'httpcache/hit': 5,\",\n",
       " \" 'item_scraped_count': 6,\",\n",
       " \" 'log_count/DEBUG': 19,\",\n",
       " \" 'log_count/INFO': 11,\",\n",
       " \" 'offsite/domains': 4,\",\n",
       " \" 'offsite/filtered': 9,\",\n",
       " \" 'request_depth_max': 3,\",\n",
       " \" 'response_received_count': 5,\",\n",
       " \" 'scheduler/dequeued': 5,\",\n",
       " \" 'scheduler/dequeued/memory': 5,\",\n",
       " \" 'scheduler/enqueued': 5,\",\n",
       " \" 'scheduler/enqueued/memory': 5,\",\n",
       " \" 'start_time': datetime.datetime(2020, 7, 2, 20, 8, 57, 773803)}\",\n",
       " '2020-07-02 16:08:58 [scrapy.core.engine] INFO: Spider closed (finished)']"
      ]
     },
     "execution_count": 49,
     "metadata": {},
     "output_type": "execute_result"
    }
   ],
   "source": [
    "%system scrapy crawl findfiles -a urls=\"http://joelcrawfordsmith.com/openassessit/demo/test-index.html\" -s DEPTH_LIMIT=3 -s CLOSESPIDER_PAGECOUNT=500 -t csv -o - > \"results/openfindit-findfiles-result.csv\""
   ]
  },
  {
   "cell_type": "code",
   "execution_count": 50,
   "metadata": {},
   "outputs": [
    {
     "data": {
      "text/html": [
       "<div>\n",
       "<style scoped>\n",
       "    .dataframe tbody tr th:only-of-type {\n",
       "        vertical-align: middle;\n",
       "    }\n",
       "\n",
       "    .dataframe tbody tr th {\n",
       "        vertical-align: top;\n",
       "    }\n",
       "\n",
       "    .dataframe thead th {\n",
       "        text-align: right;\n",
       "    }\n",
       "</style>\n",
       "<table border=\"1\" class=\"dataframe\">\n",
       "  <thead>\n",
       "    <tr style=\"text-align: right;\">\n",
       "      <th></th>\n",
       "      <th>url</th>\n",
       "      <th>link_text</th>\n",
       "      <th>from_page_url</th>\n",
       "    </tr>\n",
       "  </thead>\n",
       "  <tbody>\n",
       "    <tr>\n",
       "      <th>0</th>\n",
       "      <td>http://joelcrawfordsmith.com/openassessit/demo...</td>\n",
       "      <td>Alice in Wonderland</td>\n",
       "      <td>http://joelcrawfordsmith.com/openassessit/demo...</td>\n",
       "    </tr>\n",
       "    <tr>\n",
       "      <th>1</th>\n",
       "      <td>http://joelcrawfordsmith.com/openassessit/demo...</td>\n",
       "      <td>Through the Looking Glass</td>\n",
       "      <td>http://joelcrawfordsmith.com/openassessit/demo...</td>\n",
       "    </tr>\n",
       "    <tr>\n",
       "      <th>2</th>\n",
       "      <td>http://joelcrawfordsmith.com/openassessit/demo...</td>\n",
       "      <td>Alice's Vacilation between Childhood and Adole...</td>\n",
       "      <td>http://joelcrawfordsmith.com/openassessit/demo...</td>\n",
       "    </tr>\n",
       "    <tr>\n",
       "      <th>3</th>\n",
       "      <td>http://joelcrawfordsmith.com/openassessit/demo...</td>\n",
       "      <td>Music for Alice in Wonderland play</td>\n",
       "      <td>http://joelcrawfordsmith.com/openassessit/demo...</td>\n",
       "    </tr>\n",
       "    <tr>\n",
       "      <th>4</th>\n",
       "      <td>http://joelcrawfordsmith.com/openassessit/demo...</td>\n",
       "      <td>The Hunting Shark</td>\n",
       "      <td>http://joelcrawfordsmith.com/openassessit/demo...</td>\n",
       "    </tr>\n",
       "    <tr>\n",
       "      <th>5</th>\n",
       "      <td>http://joelcrawfordsmith.com/openassessit/demo...</td>\n",
       "      <td>Phantasmagoria</td>\n",
       "      <td>http://joelcrawfordsmith.com/openassessit/demo...</td>\n",
       "    </tr>\n",
       "    <tr>\n",
       "      <th>6</th>\n",
       "      <td>Scraping complete.</td>\n",
       "      <td>.</td>\n",
       "      <td>.</td>\n",
       "    </tr>\n",
       "  </tbody>\n",
       "</table>\n",
       "</div>"
      ],
      "text/plain": [
       "                                                 url  \\\n",
       "0  http://joelcrawfordsmith.com/openassessit/demo...   \n",
       "1  http://joelcrawfordsmith.com/openassessit/demo...   \n",
       "2  http://joelcrawfordsmith.com/openassessit/demo...   \n",
       "3  http://joelcrawfordsmith.com/openassessit/demo...   \n",
       "4  http://joelcrawfordsmith.com/openassessit/demo...   \n",
       "5  http://joelcrawfordsmith.com/openassessit/demo...   \n",
       "6                                 Scraping complete.   \n",
       "\n",
       "                                           link_text  \\\n",
       "0                                Alice in Wonderland   \n",
       "1                          Through the Looking Glass   \n",
       "2  Alice's Vacilation between Childhood and Adole...   \n",
       "3                 Music for Alice in Wonderland play   \n",
       "4                                  The Hunting Shark   \n",
       "5                                     Phantasmagoria   \n",
       "6                                                  .   \n",
       "\n",
       "                                       from_page_url  \n",
       "0  http://joelcrawfordsmith.com/openassessit/demo...  \n",
       "1  http://joelcrawfordsmith.com/openassessit/demo...  \n",
       "2  http://joelcrawfordsmith.com/openassessit/demo...  \n",
       "3  http://joelcrawfordsmith.com/openassessit/demo...  \n",
       "4  http://joelcrawfordsmith.com/openassessit/demo...  \n",
       "5  http://joelcrawfordsmith.com/openassessit/demo...  \n",
       "6                                                  .  "
      ]
     },
     "execution_count": 50,
     "metadata": {},
     "output_type": "execute_result"
    }
   ],
   "source": [
    "df = pd.read_csv(\"results/openfindit-findfiles-result.csv\", dtype=str)\n",
    "df"
   ]
  },
  {
   "cell_type": "markdown",
   "metadata": {},
   "source": [
    "## Get your result CSV file\n",
    "Crawl result file is in this relative location `results/openfindit-findfiles-result.csv`"
   ]
  },
  {
   "cell_type": "code",
   "execution_count": null,
   "metadata": {},
   "outputs": [],
   "source": []
  }
 ],
 "metadata": {
  "kernelspec": {
   "display_name": "Python 3",
   "language": "python",
   "name": "python3"
  },
  "language_info": {
   "codemirror_mode": {
    "name": "ipython",
    "version": 3
   },
   "file_extension": ".py",
   "mimetype": "text/x-python",
   "name": "python",
   "nbconvert_exporter": "python",
   "pygments_lexer": "ipython3",
   "version": "3.7.6"
  }
 },
 "nbformat": 4,
 "nbformat_minor": 4
}
